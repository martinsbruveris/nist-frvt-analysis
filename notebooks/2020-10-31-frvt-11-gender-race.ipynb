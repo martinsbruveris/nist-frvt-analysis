{
 "cells": [
  {
   "cell_type": "code",
   "execution_count": 1,
   "metadata": {},
   "outputs": [],
   "source": [
    "from pathlib import Path\n",
    "\n",
    "import matplotlib.pyplot as plt\n",
    "import numpy as np\n",
    "import pandas as pd\n",
    "import seaborn as sns"
   ]
  },
  {
   "cell_type": "code",
   "execution_count": 2,
   "metadata": {},
   "outputs": [],
   "source": [
    "sns.set_style(\"darkgrid\")\n",
    "sns.set_context(context=\"paper\")"
   ]
  },
  {
   "cell_type": "code",
   "execution_count": 3,
   "metadata": {},
   "outputs": [],
   "source": [
    "output_dir = Path(\"../figures/\")\n",
    "output_dir.mkdir(exist_ok=True, parents=True)"
   ]
  },
  {
   "cell_type": "markdown",
   "metadata": {},
   "source": [
    "## Load data"
   ]
  },
  {
   "cell_type": "code",
   "execution_count": 4,
   "metadata": {},
   "outputs": [],
   "source": [
    "overview_df = pd.read_csv(\"../data/frvt_11_overview.csv\", index_col=0)\n",
    "fmr_df = pd.read_csv(\"../data/frvt_11_gender_race.csv\", index_col=0)"
   ]
  },
  {
   "cell_type": "code",
   "execution_count": 5,
   "metadata": {},
   "outputs": [
    {
     "data": {
      "text/html": [
       "<div>\n",
       "<style scoped>\n",
       "    .dataframe tbody tr th:only-of-type {\n",
       "        vertical-align: middle;\n",
       "    }\n",
       "\n",
       "    .dataframe tbody tr th {\n",
       "        vertical-align: top;\n",
       "    }\n",
       "\n",
       "    .dataframe thead th {\n",
       "        text-align: right;\n",
       "    }\n",
       "</style>\n",
       "<table border=\"1\" class=\"dataframe\">\n",
       "  <thead>\n",
       "    <tr style=\"text-align: right;\">\n",
       "      <th></th>\n",
       "      <th>VisaMC, 1e-4</th>\n",
       "      <th>VisaMC, rank</th>\n",
       "      <th>Visa, 1e-6</th>\n",
       "      <th>Visa, rank</th>\n",
       "      <th>Mugshot, 1e-5</th>\n",
       "      <th>Mugshot, rank</th>\n",
       "      <th>Mugshot12+Yrs, 1e-5</th>\n",
       "      <th>Mugshot12+Yrs, rank</th>\n",
       "      <th>VisaBorder, 1e-6</th>\n",
       "      <th>VisaBorder, rank</th>\n",
       "      <th>Border, 1e-6</th>\n",
       "      <th>Border1e-6, rank</th>\n",
       "      <th>Border, 1e-5</th>\n",
       "      <th>Border1e-5, rank</th>\n",
       "      <th>Wild, 1e-4</th>\n",
       "      <th>Wild, rank</th>\n",
       "      <th>ChildExp, 1e-2</th>\n",
       "      <th>ChildExp, rank</th>\n",
       "    </tr>\n",
       "    <tr>\n",
       "      <th>Name</th>\n",
       "      <th></th>\n",
       "      <th></th>\n",
       "      <th></th>\n",
       "      <th></th>\n",
       "      <th></th>\n",
       "      <th></th>\n",
       "      <th></th>\n",
       "      <th></th>\n",
       "      <th></th>\n",
       "      <th></th>\n",
       "      <th></th>\n",
       "      <th></th>\n",
       "      <th></th>\n",
       "      <th></th>\n",
       "      <th></th>\n",
       "      <th></th>\n",
       "      <th></th>\n",
       "      <th></th>\n",
       "    </tr>\n",
       "  </thead>\n",
       "  <tbody>\n",
       "    <tr>\n",
       "      <th>3divi-004</th>\n",
       "      <td>0.0095</td>\n",
       "      <td>86.0</td>\n",
       "      <td>0.0153</td>\n",
       "      <td>88.0</td>\n",
       "      <td>0.0097</td>\n",
       "      <td>99.0</td>\n",
       "      <td>0.0145</td>\n",
       "      <td>96.0</td>\n",
       "      <td>0.0175</td>\n",
       "      <td>98.0</td>\n",
       "      <td>0.0330</td>\n",
       "      <td>86.0</td>\n",
       "      <td>0.0242</td>\n",
       "      <td>113.0</td>\n",
       "      <td>0.0665</td>\n",
       "      <td>167.0</td>\n",
       "      <td>0.5025</td>\n",
       "      <td>23.0</td>\n",
       "    </tr>\n",
       "    <tr>\n",
       "      <th>3divi-005</th>\n",
       "      <td>0.0094</td>\n",
       "      <td>85.0</td>\n",
       "      <td>0.0151</td>\n",
       "      <td>86.0</td>\n",
       "      <td>0.0078</td>\n",
       "      <td>73.0</td>\n",
       "      <td>0.0121</td>\n",
       "      <td>70.0</td>\n",
       "      <td>0.0135</td>\n",
       "      <td>71.0</td>\n",
       "      <td>0.0231</td>\n",
       "      <td>61.0</td>\n",
       "      <td>0.0156</td>\n",
       "      <td>74.0</td>\n",
       "      <td>0.0351</td>\n",
       "      <td>118.0</td>\n",
       "      <td>NaN</td>\n",
       "      <td>NaN</td>\n",
       "    </tr>\n",
       "    <tr>\n",
       "      <th>acer-000</th>\n",
       "      <td>0.1393</td>\n",
       "      <td>208.0</td>\n",
       "      <td>0.9075</td>\n",
       "      <td>238.0</td>\n",
       "      <td>0.9981</td>\n",
       "      <td>238.0</td>\n",
       "      <td>NaN</td>\n",
       "      <td>NaN</td>\n",
       "      <td>1.0000</td>\n",
       "      <td>232.0</td>\n",
       "      <td>1.0000</td>\n",
       "      <td>224.0</td>\n",
       "      <td>0.9998</td>\n",
       "      <td>228.0</td>\n",
       "      <td>0.9841</td>\n",
       "      <td>233.0</td>\n",
       "      <td>NaN</td>\n",
       "      <td>NaN</td>\n",
       "    </tr>\n",
       "    <tr>\n",
       "      <th>acer-001</th>\n",
       "      <td>0.0294</td>\n",
       "      <td>175.0</td>\n",
       "      <td>0.0504</td>\n",
       "      <td>175.0</td>\n",
       "      <td>0.0240</td>\n",
       "      <td>171.0</td>\n",
       "      <td>0.0463</td>\n",
       "      <td>172.0</td>\n",
       "      <td>0.0436</td>\n",
       "      <td>167.0</td>\n",
       "      <td>0.0622</td>\n",
       "      <td>123.0</td>\n",
       "      <td>0.0360</td>\n",
       "      <td>141.0</td>\n",
       "      <td>0.0307</td>\n",
       "      <td>84.0</td>\n",
       "      <td>NaN</td>\n",
       "      <td>NaN</td>\n",
       "    </tr>\n",
       "    <tr>\n",
       "      <th>acisw-003</th>\n",
       "      <td>0.9682</td>\n",
       "      <td>244.0</td>\n",
       "      <td>0.9971</td>\n",
       "      <td>244.0</td>\n",
       "      <td>0.7892</td>\n",
       "      <td>233.0</td>\n",
       "      <td>0.8738</td>\n",
       "      <td>231.0</td>\n",
       "      <td>0.8752</td>\n",
       "      <td>225.0</td>\n",
       "      <td>0.8275</td>\n",
       "      <td>203.0</td>\n",
       "      <td>0.6698</td>\n",
       "      <td>216.0</td>\n",
       "      <td>0.4470</td>\n",
       "      <td>222.0</td>\n",
       "      <td>NaN</td>\n",
       "      <td>NaN</td>\n",
       "    </tr>\n",
       "  </tbody>\n",
       "</table>\n",
       "</div>"
      ],
      "text/plain": [
       "           VisaMC, 1e-4  VisaMC, rank  Visa, 1e-6  Visa, rank  Mugshot, 1e-5  \\\n",
       "Name                                                                           \n",
       "3divi-004        0.0095          86.0      0.0153        88.0         0.0097   \n",
       "3divi-005        0.0094          85.0      0.0151        86.0         0.0078   \n",
       "acer-000         0.1393         208.0      0.9075       238.0         0.9981   \n",
       "acer-001         0.0294         175.0      0.0504       175.0         0.0240   \n",
       "acisw-003        0.9682         244.0      0.9971       244.0         0.7892   \n",
       "\n",
       "           Mugshot, rank  Mugshot12+Yrs, 1e-5  Mugshot12+Yrs, rank  \\\n",
       "Name                                                                 \n",
       "3divi-004           99.0               0.0145                 96.0   \n",
       "3divi-005           73.0               0.0121                 70.0   \n",
       "acer-000           238.0                  NaN                  NaN   \n",
       "acer-001           171.0               0.0463                172.0   \n",
       "acisw-003          233.0               0.8738                231.0   \n",
       "\n",
       "           VisaBorder, 1e-6  VisaBorder, rank  Border, 1e-6  Border1e-6, rank  \\\n",
       "Name                                                                            \n",
       "3divi-004            0.0175              98.0        0.0330              86.0   \n",
       "3divi-005            0.0135              71.0        0.0231              61.0   \n",
       "acer-000             1.0000             232.0        1.0000             224.0   \n",
       "acer-001             0.0436             167.0        0.0622             123.0   \n",
       "acisw-003            0.8752             225.0        0.8275             203.0   \n",
       "\n",
       "           Border, 1e-5  Border1e-5, rank  Wild, 1e-4  Wild, rank  \\\n",
       "Name                                                                \n",
       "3divi-004        0.0242             113.0      0.0665       167.0   \n",
       "3divi-005        0.0156              74.0      0.0351       118.0   \n",
       "acer-000         0.9998             228.0      0.9841       233.0   \n",
       "acer-001         0.0360             141.0      0.0307        84.0   \n",
       "acisw-003        0.6698             216.0      0.4470       222.0   \n",
       "\n",
       "           ChildExp, 1e-2  ChildExp, rank  \n",
       "Name                                       \n",
       "3divi-004          0.5025            23.0  \n",
       "3divi-005             NaN             NaN  \n",
       "acer-000              NaN             NaN  \n",
       "acer-001              NaN             NaN  \n",
       "acisw-003             NaN             NaN  "
      ]
     },
     "execution_count": 5,
     "metadata": {},
     "output_type": "execute_result"
    }
   ],
   "source": [
    "overview_df.head()"
   ]
  },
  {
   "cell_type": "code",
   "execution_count": 6,
   "metadata": {},
   "outputs": [
    {
     "data": {
      "text/html": [
       "<div>\n",
       "<style scoped>\n",
       "    .dataframe tbody tr th:only-of-type {\n",
       "        vertical-align: middle;\n",
       "    }\n",
       "\n",
       "    .dataframe tbody tr th {\n",
       "        vertical-align: top;\n",
       "    }\n",
       "\n",
       "    .dataframe thead th {\n",
       "        text-align: right;\n",
       "    }\n",
       "</style>\n",
       "<table border=\"1\" class=\"dataframe\">\n",
       "  <thead>\n",
       "    <tr style=\"text-align: right;\">\n",
       "      <th></th>\n",
       "      <th>MW_MB</th>\n",
       "      <th>MW_MW</th>\n",
       "      <th>MB_MB</th>\n",
       "      <th>MB_MW</th>\n",
       "      <th>FW_FB</th>\n",
       "      <th>FW_FW</th>\n",
       "      <th>FB_FB</th>\n",
       "      <th>FB_FW</th>\n",
       "    </tr>\n",
       "  </thead>\n",
       "  <tbody>\n",
       "    <tr>\n",
       "      <th>acisw-003</th>\n",
       "      <td>0.0001</td>\n",
       "      <td>0.001</td>\n",
       "      <td>0.0005</td>\n",
       "      <td>0.0001</td>\n",
       "      <td>0.0002</td>\n",
       "      <td>0.0044</td>\n",
       "      <td>0.0014</td>\n",
       "      <td>0.0003</td>\n",
       "    </tr>\n",
       "    <tr>\n",
       "      <th>bresee-000</th>\n",
       "      <td>0.0007</td>\n",
       "      <td>0.001</td>\n",
       "      <td>0.0009</td>\n",
       "      <td>0.0007</td>\n",
       "      <td>0.0011</td>\n",
       "      <td>0.0018</td>\n",
       "      <td>0.0017</td>\n",
       "      <td>0.0010</td>\n",
       "    </tr>\n",
       "    <tr>\n",
       "      <th>intellifusion-002</th>\n",
       "      <td>0.0003</td>\n",
       "      <td>0.001</td>\n",
       "      <td>0.0015</td>\n",
       "      <td>0.0003</td>\n",
       "      <td>0.0006</td>\n",
       "      <td>0.0016</td>\n",
       "      <td>0.0020</td>\n",
       "      <td>0.0007</td>\n",
       "    </tr>\n",
       "    <tr>\n",
       "      <th>shaman-000</th>\n",
       "      <td>0.0011</td>\n",
       "      <td>0.001</td>\n",
       "      <td>0.0018</td>\n",
       "      <td>0.0011</td>\n",
       "      <td>0.0015</td>\n",
       "      <td>0.0015</td>\n",
       "      <td>0.0023</td>\n",
       "      <td>0.0015</td>\n",
       "    </tr>\n",
       "    <tr>\n",
       "      <th>yitu-003</th>\n",
       "      <td>0.0001</td>\n",
       "      <td>0.001</td>\n",
       "      <td>0.0013</td>\n",
       "      <td>0.0001</td>\n",
       "      <td>0.0002</td>\n",
       "      <td>0.0021</td>\n",
       "      <td>0.0024</td>\n",
       "      <td>0.0002</td>\n",
       "    </tr>\n",
       "  </tbody>\n",
       "</table>\n",
       "</div>"
      ],
      "text/plain": [
       "                    MW_MB  MW_MW   MB_MB   MB_MW   FW_FB   FW_FW   FB_FB  \\\n",
       "acisw-003          0.0001  0.001  0.0005  0.0001  0.0002  0.0044  0.0014   \n",
       "bresee-000         0.0007  0.001  0.0009  0.0007  0.0011  0.0018  0.0017   \n",
       "intellifusion-002  0.0003  0.001  0.0015  0.0003  0.0006  0.0016  0.0020   \n",
       "shaman-000         0.0011  0.001  0.0018  0.0011  0.0015  0.0015  0.0023   \n",
       "yitu-003           0.0001  0.001  0.0013  0.0001  0.0002  0.0021  0.0024   \n",
       "\n",
       "                    FB_FW  \n",
       "acisw-003          0.0003  \n",
       "bresee-000         0.0010  \n",
       "intellifusion-002  0.0007  \n",
       "shaman-000         0.0015  \n",
       "yitu-003           0.0002  "
      ]
     },
     "execution_count": 6,
     "metadata": {},
     "output_type": "execute_result"
    }
   ],
   "source": [
    "fmr_df.head()"
   ]
  },
  {
   "cell_type": "code",
   "execution_count": 7,
   "metadata": {},
   "outputs": [],
   "source": [
    "df = pd.concat([overview_df, fmr_df], axis=\"columns\")"
   ]
  },
  {
   "cell_type": "code",
   "execution_count": 8,
   "metadata": {},
   "outputs": [
    {
     "data": {
      "text/plain": [
       "250"
      ]
     },
     "execution_count": 8,
     "metadata": {},
     "output_type": "execute_result"
    }
   ],
   "source": [
    "len(df)"
   ]
  },
  {
   "cell_type": "markdown",
   "metadata": {},
   "source": [
    "## Plot FMR vs overall FNMR"
   ]
  },
  {
   "cell_type": "code",
   "execution_count": 9,
   "metadata": {},
   "outputs": [],
   "source": [
    "def plot_scatter(\n",
    "    df, xcol, ycol, xlabel, ylabel, filepath\n",
    "):\n",
    "    plt.figure(figsize=(4, 2.6))\n",
    "    sns.scatterplot(x=xcol, y=ycol, data=df)\n",
    "    plt.xscale(\"log\")\n",
    "    plt.yscale(\"log\")\n",
    "    plt.xticks(np.concatenate([\n",
    "        np.arange(1e-3, 1e-2, 2e-3),\n",
    "        np.arange(1e-2, 1e-1, 2e-2),\n",
    "        np.arange(1e-1, 1e-0, 2e-1),\n",
    "        [1e-0]\n",
    "    ]))\n",
    "    plt.yticks(np.concatenate([\n",
    "        np.arange(1e-4, 1e-3, 2e-4),\n",
    "        np.arange(1e-3, 1e-2, 2e-3),\n",
    "        np.arange(1e-2, 1e-1, 2e-2),\n",
    "        np.arange(1e-1, 1e-0, 2e-1),\n",
    "        [1e-0]\n",
    "    ]))\n",
    "    plt.plot([1e-3, 1.2], [1e-3, 1e-3])\n",
    "    plt.xlim([1e-3, 1.2])\n",
    "    plt.ylim([1e-4, 1e-1])\n",
    "    plt.xlabel(xlabel)\n",
    "    plt.ylabel(ylabel)\n",
    "    plt.tight_layout()\n",
    "    plt.savefig(filepath, dpi=300)"
   ]
  },
  {
   "cell_type": "code",
   "execution_count": 10,
   "metadata": {},
   "outputs": [
    {
     "data": {
      "image/png": "[encoded data removed]",
      "text/plain": [
       "<Figure size 288x187.2 with 1 Axes>"
      ]
     },
     "metadata": {},
     "output_type": "display_data"
    }
   ],
   "source": [
    "plot_scatter(\n",
    "    df=df, \n",
    "    xcol=\"Mugshot, 1e-5\", \n",
    "    ycol=\"FW_FW\", \n",
    "    xlabel=\"Mugshot FNMR @ FMR=1e-5\",\n",
    "    ylabel=\"White Female FMR @ FMR=1e-3\",\n",
    "    filepath=output_dir / \"frvt_11_gender_race_fw.png\",\n",
    ")"
   ]
  },
  {
   "cell_type": "code",
   "execution_count": 11,
   "metadata": {},
   "outputs": [
    {
     "data": {
      "image/png": "[encoded data removed]",
      "text/plain": [
       "<Figure size 288x187.2 with 1 Axes>"
      ]
     },
     "metadata": {},
     "output_type": "display_data"
    }
   ],
   "source": [
    "plot_scatter(\n",
    "    df=df, \n",
    "    xcol=\"Mugshot, 1e-5\", \n",
    "    ycol=\"MB_MB\", \n",
    "    xlabel=\"Mugshot FNMR @ FMR=1e-5\",\n",
    "    ylabel=\"Black Male FMR @ FMR=1e-3\",\n",
    "    filepath=output_dir / \"frvt_11_gender_race_mb.png\",\n",
    ")"
   ]
  },
  {
   "cell_type": "code",
   "execution_count": 12,
   "metadata": {},
   "outputs": [
    {
     "data": {
      "image/png": "[encoded data removed]",
      "text/plain": [
       "<Figure size 288x187.2 with 1 Axes>"
      ]
     },
     "metadata": {},
     "output_type": "display_data"
    }
   ],
   "source": [
    "plot_scatter(\n",
    "    df=df, \n",
    "    xcol=\"Mugshot, 1e-5\", \n",
    "    ycol=\"FB_FB\", \n",
    "    xlabel=\"Mugshot FNMR @ FMR=1e-5\",\n",
    "    ylabel=\"Black Female FMR @ FMR=1e-3\",\n",
    "    filepath=output_dir / \"frvt_11_gender_race_fb.png\",\n",
    ")"
   ]
  },
  {
   "cell_type": "markdown",
   "metadata": {},
   "source": [
    "## Ordering of gender-race"
   ]
  },
  {
   "cell_type": "code",
   "execution_count": 13,
   "metadata": {},
   "outputs": [],
   "source": [
    "overview_df = pd.read_csv(\"../data/frvt_11_overview.csv\", index_col=0)"
   ]
  },
  {
   "cell_type": "code",
   "execution_count": 14,
   "metadata": {},
   "outputs": [],
   "source": [
    "df = pd.read_csv(\"../data/frvt_11_gender_race.csv\", index_col=0)\n",
    "df = df.rename(\n",
    "    columns={\"MW_MW\": \"MW\", \"MB_MB\": \"MB\", \"FW_FW\": \"FW\", \"FB_FB\":  \"FB\"}\n",
    ")\n",
    "df = df[[\"MW\", \"MB\", \"FW\", \"FB\"]]"
   ]
  },
  {
   "cell_type": "code",
   "execution_count": 15,
   "metadata": {},
   "outputs": [],
   "source": [
    "def get_ordering(row):\n",
    "    ordered = row[[\"MW\", \"MB\", \"FW\", \"FB\"]].sort_values().index\n",
    "    return \" < \".join(ordered)"
   ]
  },
  {
   "cell_type": "code",
   "execution_count": 16,
   "metadata": {},
   "outputs": [],
   "source": [
    "df[\"order\"] = df.apply(get_ordering, axis=1)"
   ]
  },
  {
   "cell_type": "code",
   "execution_count": 17,
   "metadata": {},
   "outputs": [
    {
     "data": {
      "text/plain": [
       "MW < MB < FW < FB    150\n",
       "MW < FW < MB < FB     72\n",
       "MW < FW < FB < MB      7\n",
       "MB < MW < FW < FB      5\n",
       "MB < MW < FB < FW      2\n",
       "FW < MW < FB < MB      2\n",
       "FW < MW < MB < FB      1\n",
       "MW < MB < FB < FW      1\n",
       "Name: order, dtype: int64"
      ]
     },
     "execution_count": 17,
     "metadata": {},
     "output_type": "execute_result"
    }
   ],
   "source": [
    "df[\"order\"].value_counts()"
   ]
  },
  {
   "cell_type": "code",
   "execution_count": 18,
   "metadata": {},
   "outputs": [
    {
     "data": {
      "text/plain": [
       "240"
      ]
     },
     "execution_count": 18,
     "metadata": {},
     "output_type": "execute_result"
    }
   ],
   "source": [
    "df[\"order\"].value_counts().sum()"
   ]
  },
  {
   "cell_type": "code",
   "execution_count": 19,
   "metadata": {},
   "outputs": [],
   "source": [
    "counts = df[\"order\"].value_counts()\n",
    "tail_orderings = counts[counts < 10].index"
   ]
  },
  {
   "cell_type": "code",
   "execution_count": 20,
   "metadata": {},
   "outputs": [],
   "source": [
    "tail_df = df[df[\"order\"].isin(tail_orderings)].copy()\n",
    "tail_df[\"order_counts\"] = tail_df[\"order\"].map(counts)\n",
    "tail_df.sort_values(by=\"order_counts\", ascending=False, inplace=True)"
   ]
  },
  {
   "cell_type": "code",
   "execution_count": 21,
   "metadata": {},
   "outputs": [],
   "source": [
    "tail_df = tail_df.merge(\n",
    "    right=overview_df[[\"Mugshot, 1e-5\", \"Mugshot, rank\"]], \n",
    "    how=\"left\", \n",
    "    left_index=True, \n",
    "    right_index=True,\n",
    ")"
   ]
  },
  {
   "cell_type": "code",
   "execution_count": 22,
   "metadata": {},
   "outputs": [
    {
     "data": {
      "text/html": [
       "<div>\n",
       "<style scoped>\n",
       "    .dataframe tbody tr th:only-of-type {\n",
       "        vertical-align: middle;\n",
       "    }\n",
       "\n",
       "    .dataframe tbody tr th {\n",
       "        vertical-align: top;\n",
       "    }\n",
       "\n",
       "    .dataframe thead th {\n",
       "        text-align: right;\n",
       "    }\n",
       "</style>\n",
       "<table border=\"1\" class=\"dataframe\">\n",
       "  <thead>\n",
       "    <tr style=\"text-align: right;\">\n",
       "      <th></th>\n",
       "      <th>MW</th>\n",
       "      <th>MB</th>\n",
       "      <th>FW</th>\n",
       "      <th>FB</th>\n",
       "      <th>order</th>\n",
       "      <th>order_counts</th>\n",
       "      <th>Mugshot, 1e-5</th>\n",
       "      <th>Mugshot, rank</th>\n",
       "    </tr>\n",
       "  </thead>\n",
       "  <tbody>\n",
       "    <tr>\n",
       "      <th>intsysmsu-001</th>\n",
       "      <td>0.001</td>\n",
       "      <td>0.4985</td>\n",
       "      <td>0.0037</td>\n",
       "      <td>0.4175</td>\n",
       "      <td>MW &lt; FW &lt; FB &lt; MB</td>\n",
       "      <td>7</td>\n",
       "      <td>0.9923</td>\n",
       "      <td>236.0</td>\n",
       "    </tr>\n",
       "    <tr>\n",
       "      <th>amplifiedgroup-001</th>\n",
       "      <td>0.001</td>\n",
       "      <td>0.1087</td>\n",
       "      <td>0.0036</td>\n",
       "      <td>0.0221</td>\n",
       "      <td>MW &lt; FW &lt; FB &lt; MB</td>\n",
       "      <td>7</td>\n",
       "      <td>0.6973</td>\n",
       "      <td>228.0</td>\n",
       "    </tr>\n",
       "    <tr>\n",
       "      <th>videonetics-001</th>\n",
       "      <td>0.001</td>\n",
       "      <td>0.1433</td>\n",
       "      <td>0.0040</td>\n",
       "      <td>0.0903</td>\n",
       "      <td>MW &lt; FW &lt; FB &lt; MB</td>\n",
       "      <td>7</td>\n",
       "      <td>0.7517</td>\n",
       "      <td>231.0</td>\n",
       "    </tr>\n",
       "    <tr>\n",
       "      <th>iws-000</th>\n",
       "      <td>0.001</td>\n",
       "      <td>0.1587</td>\n",
       "      <td>0.0029</td>\n",
       "      <td>0.0892</td>\n",
       "      <td>MW &lt; FW &lt; FB &lt; MB</td>\n",
       "      <td>7</td>\n",
       "      <td>0.6859</td>\n",
       "      <td>226.0</td>\n",
       "    </tr>\n",
       "    <tr>\n",
       "      <th>videonetics-002</th>\n",
       "      <td>0.001</td>\n",
       "      <td>0.0922</td>\n",
       "      <td>0.0060</td>\n",
       "      <td>0.0789</td>\n",
       "      <td>MW &lt; FW &lt; FB &lt; MB</td>\n",
       "      <td>7</td>\n",
       "      <td>0.6081</td>\n",
       "      <td>224.0</td>\n",
       "    </tr>\n",
       "    <tr>\n",
       "      <th>chosun-000</th>\n",
       "      <td>0.001</td>\n",
       "      <td>0.0148</td>\n",
       "      <td>0.0011</td>\n",
       "      <td>0.0091</td>\n",
       "      <td>MW &lt; FW &lt; FB &lt; MB</td>\n",
       "      <td>7</td>\n",
       "      <td>1.0000</td>\n",
       "      <td>245.0</td>\n",
       "    </tr>\n",
       "    <tr>\n",
       "      <th>visteam-000</th>\n",
       "      <td>0.001</td>\n",
       "      <td>0.0597</td>\n",
       "      <td>0.0012</td>\n",
       "      <td>0.0384</td>\n",
       "      <td>MW &lt; FW &lt; FB &lt; MB</td>\n",
       "      <td>7</td>\n",
       "      <td>0.9959</td>\n",
       "      <td>237.0</td>\n",
       "    </tr>\n",
       "    <tr>\n",
       "      <th>sjtu-002</th>\n",
       "      <td>0.001</td>\n",
       "      <td>0.0009</td>\n",
       "      <td>0.0016</td>\n",
       "      <td>0.0026</td>\n",
       "      <td>MB &lt; MW &lt; FW &lt; FB</td>\n",
       "      <td>5</td>\n",
       "      <td>0.0138</td>\n",
       "      <td>137.0</td>\n",
       "    </tr>\n",
       "    <tr>\n",
       "      <th>cybercore-000</th>\n",
       "      <td>0.001</td>\n",
       "      <td>0.0007</td>\n",
       "      <td>0.0031</td>\n",
       "      <td>0.0039</td>\n",
       "      <td>MB &lt; MW &lt; FW &lt; FB</td>\n",
       "      <td>5</td>\n",
       "      <td>0.1521</td>\n",
       "      <td>209.0</td>\n",
       "    </tr>\n",
       "    <tr>\n",
       "      <th>psl-003</th>\n",
       "      <td>0.001</td>\n",
       "      <td>0.0008</td>\n",
       "      <td>0.0023</td>\n",
       "      <td>0.0045</td>\n",
       "      <td>MB &lt; MW &lt; FW &lt; FB</td>\n",
       "      <td>5</td>\n",
       "      <td>0.0055</td>\n",
       "      <td>35.0</td>\n",
       "    </tr>\n",
       "    <tr>\n",
       "      <th>psl-005</th>\n",
       "      <td>0.001</td>\n",
       "      <td>0.0008</td>\n",
       "      <td>0.0033</td>\n",
       "      <td>0.0047</td>\n",
       "      <td>MB &lt; MW &lt; FW &lt; FB</td>\n",
       "      <td>5</td>\n",
       "      <td>0.0034</td>\n",
       "      <td>13.0</td>\n",
       "    </tr>\n",
       "    <tr>\n",
       "      <th>oz-001</th>\n",
       "      <td>0.001</td>\n",
       "      <td>0.0008</td>\n",
       "      <td>0.0038</td>\n",
       "      <td>0.0056</td>\n",
       "      <td>MB &lt; MW &lt; FW &lt; FB</td>\n",
       "      <td>5</td>\n",
       "      <td>0.0109</td>\n",
       "      <td>111.0</td>\n",
       "    </tr>\n",
       "    <tr>\n",
       "      <th>acisw-003</th>\n",
       "      <td>0.001</td>\n",
       "      <td>0.0005</td>\n",
       "      <td>0.0044</td>\n",
       "      <td>0.0014</td>\n",
       "      <td>MB &lt; MW &lt; FB &lt; FW</td>\n",
       "      <td>2</td>\n",
       "      <td>0.7892</td>\n",
       "      <td>233.0</td>\n",
       "    </tr>\n",
       "    <tr>\n",
       "      <th>isityou-000</th>\n",
       "      <td>0.001</td>\n",
       "      <td>0.0265</td>\n",
       "      <td>0.0007</td>\n",
       "      <td>0.0180</td>\n",
       "      <td>FW &lt; MW &lt; FB &lt; MB</td>\n",
       "      <td>2</td>\n",
       "      <td>1.0000</td>\n",
       "      <td>240.0</td>\n",
       "    </tr>\n",
       "    <tr>\n",
       "      <th>bresee-000</th>\n",
       "      <td>0.001</td>\n",
       "      <td>0.0009</td>\n",
       "      <td>0.0018</td>\n",
       "      <td>0.0017</td>\n",
       "      <td>MB &lt; MW &lt; FB &lt; FW</td>\n",
       "      <td>2</td>\n",
       "      <td>0.9819</td>\n",
       "      <td>235.0</td>\n",
       "    </tr>\n",
       "    <tr>\n",
       "      <th>microfocus-001</th>\n",
       "      <td>0.001</td>\n",
       "      <td>0.0063</td>\n",
       "      <td>0.0009</td>\n",
       "      <td>0.0059</td>\n",
       "      <td>FW &lt; MW &lt; FB &lt; MB</td>\n",
       "      <td>2</td>\n",
       "      <td>0.7256</td>\n",
       "      <td>230.0</td>\n",
       "    </tr>\n",
       "    <tr>\n",
       "      <th>intelresearch-001</th>\n",
       "      <td>0.001</td>\n",
       "      <td>0.0015</td>\n",
       "      <td>0.0008</td>\n",
       "      <td>0.0033</td>\n",
       "      <td>FW &lt; MW &lt; MB &lt; FB</td>\n",
       "      <td>1</td>\n",
       "      <td>0.0129</td>\n",
       "      <td>133.0</td>\n",
       "    </tr>\n",
       "    <tr>\n",
       "      <th>tongyi-005</th>\n",
       "      <td>0.001</td>\n",
       "      <td>0.0023</td>\n",
       "      <td>0.0030</td>\n",
       "      <td>0.0028</td>\n",
       "      <td>MW &lt; MB &lt; FB &lt; FW</td>\n",
       "      <td>1</td>\n",
       "      <td>0.0187</td>\n",
       "      <td>158.0</td>\n",
       "    </tr>\n",
       "  </tbody>\n",
       "</table>\n",
       "</div>"
      ],
      "text/plain": [
       "                       MW      MB      FW      FB              order  \\\n",
       "intsysmsu-001       0.001  0.4985  0.0037  0.4175  MW < FW < FB < MB   \n",
       "amplifiedgroup-001  0.001  0.1087  0.0036  0.0221  MW < FW < FB < MB   \n",
       "videonetics-001     0.001  0.1433  0.0040  0.0903  MW < FW < FB < MB   \n",
       "iws-000             0.001  0.1587  0.0029  0.0892  MW < FW < FB < MB   \n",
       "videonetics-002     0.001  0.0922  0.0060  0.0789  MW < FW < FB < MB   \n",
       "chosun-000          0.001  0.0148  0.0011  0.0091  MW < FW < FB < MB   \n",
       "visteam-000         0.001  0.0597  0.0012  0.0384  MW < FW < FB < MB   \n",
       "sjtu-002            0.001  0.0009  0.0016  0.0026  MB < MW < FW < FB   \n",
       "cybercore-000       0.001  0.0007  0.0031  0.0039  MB < MW < FW < FB   \n",
       "psl-003             0.001  0.0008  0.0023  0.0045  MB < MW < FW < FB   \n",
       "psl-005             0.001  0.0008  0.0033  0.0047  MB < MW < FW < FB   \n",
       "oz-001              0.001  0.0008  0.0038  0.0056  MB < MW < FW < FB   \n",
       "acisw-003           0.001  0.0005  0.0044  0.0014  MB < MW < FB < FW   \n",
       "isityou-000         0.001  0.0265  0.0007  0.0180  FW < MW < FB < MB   \n",
       "bresee-000          0.001  0.0009  0.0018  0.0017  MB < MW < FB < FW   \n",
       "microfocus-001      0.001  0.0063  0.0009  0.0059  FW < MW < FB < MB   \n",
       "intelresearch-001   0.001  0.0015  0.0008  0.0033  FW < MW < MB < FB   \n",
       "tongyi-005          0.001  0.0023  0.0030  0.0028  MW < MB < FB < FW   \n",
       "\n",
       "                    order_counts  Mugshot, 1e-5  Mugshot, rank  \n",
       "intsysmsu-001                  7         0.9923          236.0  \n",
       "amplifiedgroup-001             7         0.6973          228.0  \n",
       "videonetics-001                7         0.7517          231.0  \n",
       "iws-000                        7         0.6859          226.0  \n",
       "videonetics-002                7         0.6081          224.0  \n",
       "chosun-000                     7         1.0000          245.0  \n",
       "visteam-000                    7         0.9959          237.0  \n",
       "sjtu-002                       5         0.0138          137.0  \n",
       "cybercore-000                  5         0.1521          209.0  \n",
       "psl-003                        5         0.0055           35.0  \n",
       "psl-005                        5         0.0034           13.0  \n",
       "oz-001                         5         0.0109          111.0  \n",
       "acisw-003                      2         0.7892          233.0  \n",
       "isityou-000                    2         1.0000          240.0  \n",
       "bresee-000                     2         0.9819          235.0  \n",
       "microfocus-001                 2         0.7256          230.0  \n",
       "intelresearch-001              1         0.0129          133.0  \n",
       "tongyi-005                     1         0.0187          158.0  "
      ]
     },
     "execution_count": 22,
     "metadata": {},
     "output_type": "execute_result"
    }
   ],
   "source": [
    "tail_df"
   ]
  },
  {
   "cell_type": "code",
   "execution_count": 23,
   "metadata": {},
   "outputs": [
    {
     "data": {
      "text/plain": [
       "2"
      ]
     },
     "execution_count": 23,
     "metadata": {},
     "output_type": "execute_result"
    }
   ],
   "source": [
    "(tail_df[\"Mugshot, 1e-5\"] < 0.01).sum()"
   ]
  },
  {
   "cell_type": "code",
   "execution_count": 24,
   "metadata": {},
   "outputs": [
    {
     "data": {
      "text/plain": [
       "6"
      ]
     },
     "execution_count": 24,
     "metadata": {},
     "output_type": "execute_result"
    }
   ],
   "source": [
    "(tail_df[\"Mugshot, 1e-5\"] < 0.02).sum()"
   ]
  }
 ],
 "metadata": {
  "kernelspec": {
   "display_name": "Python [conda env:nist-frvt-analysis] *",
   "language": "python",
   "name": "conda-env-nist-frvt-analysis-py"
  },
  "language_info": {
   "codemirror_mode": {
    "name": "ipython",
    "version": 3
   },
   "file_extension": ".py",
   "mimetype": "text/x-python",
   "name": "python",
   "nbconvert_exporter": "python",
   "pygments_lexer": "ipython3",
   "version": "3.7.8"
  },
  "toc": {
   "base_numbering": 1,
   "nav_menu": {},
   "number_sections": true,
   "sideBar": true,
   "skip_h1_title": false,
   "title_cell": "Table of Contents",
   "title_sidebar": "Contents",
   "toc_cell": false,
   "toc_position": {},
   "toc_section_display": true,
   "toc_window_display": false
  }
 },
 "nbformat": 4,
 "nbformat_minor": 4
}
